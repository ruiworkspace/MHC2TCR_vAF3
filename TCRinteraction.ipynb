## generate the whole sequences of TCR file

# Constants (replace these with your actual sequences)
TRAV = "TRAVSEQUENCE"
TRAJ = "TRAJSEQUENCE"
TCRAC = "TCRACSEQUENCE"
TRBV = "TRBVSEQUENCE"
TRBJ = "TRBJSEQUENCE"
TCRBC = "TCRBCSEQUENCE"
linker = "GGGGS" * 3  # Example flexible linker

# Input file with CDR3s: name<TAB>cdr3a<TAB>cdr3b
input_file = "b.txt"
output_file = "full_tcr_sequences.txt"

with open(input_file, "r") as infile, open(output_file, "w") as outfile:
    for line in infile:
        if not line.strip():
            continue
        parts = line.strip().split("\t")
        if len(parts) != 3:
            print(f"Skipping malformed line: {line}")
            continue
        name, cdr3a, cdr3b = parts

        full_seq = (
            TRAV + cdr3a + TRAJ + TCRAC +
            linker +
            TRBV + cdr3b + TRBJ + TCRBC
        )

        outfile.write(f">{name}\n{full_seq}\n")

print(f"✔ Full TCR sequences written to: {output_file}")
